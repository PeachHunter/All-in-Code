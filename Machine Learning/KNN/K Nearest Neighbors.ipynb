{
 "cells": [
  {
   "cell_type": "code",
   "execution_count": 29,
   "metadata": {},
   "outputs": [],
   "source": [
    "import matplotlib.pyplot as plt\n",
    "import numpy as np\n",
    "import pandas as pd\n",
    "from collections import Counter\n",
    "import tensorflow_datasets as tfds"
   ]
  },
  {
   "cell_type": "code",
   "execution_count": 3,
   "metadata": {},
   "outputs": [],
   "source": [
    "data_train, data_test = tfds.load('cifar10', split=['train', 'test'], shuffle_files=True)"
   ]
  },
  {
   "cell_type": "code",
   "execution_count": 4,
   "metadata": {},
   "outputs": [
    {
     "name": "stderr",
     "output_type": "stream",
     "text": [
      "2022-10-17 16:17:25.601598: W tensorflow/core/platform/profile_utils/cpu_utils.cc:128] Failed to get CPU frequency: 0 Hz\n"
     ]
    }
   ],
   "source": [
    "data_train = tfds.as_dataframe(data_train)\n",
    "data_test=  tfds.as_dataframe(data_test)"
   ]
  },
  {
   "cell_type": "code",
   "execution_count": 5,
   "metadata": {},
   "outputs": [],
   "source": [
    "X_train = data_train.image\n",
    "X_test = data_test.image\n",
    "y_train = data_train.label\n",
    "y_test = data_test.label\n",
    "X_train = np.array(X_train)\n",
    "X_test = np.array(X_test)\n",
    "y_train = np.array(y_train)\n",
    "y_test = np.array(y_test)"
   ]
  },
  {
   "cell_type": "code",
   "execution_count": 6,
   "metadata": {},
   "outputs": [],
   "source": [
    "def convert_to_array(ndarr):\n",
    "    n = ndarr.shape[0]\n",
    "    ndarr = ndarr.tolist()\n",
    "    ndarr = [img.tolist() for img in ndarr]\n",
    "    ndarr = np.array(ndarr)\n",
    "    ndarr = ndarr.reshape((n, -1))\n",
    "    return ndarr"
   ]
  },
  {
   "cell_type": "code",
   "execution_count": 7,
   "metadata": {},
   "outputs": [],
   "source": [
    "X_train = convert_to_array(X_train)\n",
    "X_test = convert_to_array(X_test)"
   ]
  },
  {
   "cell_type": "code",
   "execution_count": 8,
   "metadata": {},
   "outputs": [],
   "source": [
    "class KNN:\n",
    "    def __init__(self, X_train, y_train, n_neighbors=3, p=2):\n",
    "        self.X_train = X_train\n",
    "        self.y_train = y_train\n",
    "        self.p = p\n",
    "        self.n = n_neighbors\n",
    "    \n",
    "    def predict(self, X):\n",
    "        knn_list = []\n",
    "        # Initialization\n",
    "        for i in range(self.n):\n",
    "            dist = np.linalg.norm(X - self.X_train[i], ord=self.p)\n",
    "            knn_list.append((dist, self.y_train[i]))\n",
    "        \n",
    "        for i in range(self.n, len(self.X_train)):\n",
    "            # Retrieve the index of the point with the maximum distance\n",
    "            max_index = knn_list.index(max(knn_list, key=lambda x: x[0]))\n",
    "            dist = np.linalg.norm(X - self.X_train[i], ord=self.p)\n",
    "            if knn_list[max_index][0] > dist:\n",
    "                knn_list[max_index] = (dist, self.y_train[i])\n",
    "        \n",
    "        # After calculating all distances, we have to get the label with the maximum frequency\n",
    "        knn = [k[-1] for k in knn_list]\n",
    "        count = Counter(knn)\n",
    "        max_count = sorted(count.items(), key=lambda x: x[1])[-1][0]\n",
    "        # Note here we use count.items() rather than count in order to make the stuff iterable\n",
    "        return max_count\n",
    "    \n",
    "    def score(self, X_test, y_test):\n",
    "        right_count = 0\n",
    "        for i in range(len(X_test)):\n",
    "            label = self.predict(X_test[i])\n",
    "            if label == y_test[i]:\n",
    "                right_count += 1\n",
    "        return str(np.round(right_count / len(X_test) * 100, 2)) + \"%\""
   ]
  },
  {
   "cell_type": "code",
   "execution_count": 9,
   "metadata": {},
   "outputs": [],
   "source": [
    "clf = KNN(X_train, y_train)"
   ]
  },
  {
   "cell_type": "code",
   "execution_count": 24,
   "metadata": {},
   "outputs": [
    {
     "ename": "KeyboardInterrupt",
     "evalue": "",
     "output_type": "error",
     "traceback": [
      "\u001b[0;31m---------------------------------------------------------------------------\u001b[0m",
      "\u001b[0;31mKeyboardInterrupt\u001b[0m                         Traceback (most recent call last)",
      "\u001b[1;32m/Users/qiaoxinwei/ML/Code Practice/KNN-cifar10.ipynb Cell 9\u001b[0m in \u001b[0;36m<cell line: 1>\u001b[0;34m()\u001b[0m\n\u001b[0;32m----> <a href='vscode-notebook-cell:/Users/qiaoxinwei/ML/Code%20Practice/KNN-cifar10.ipynb#X13sZmlsZQ%3D%3D?line=0'>1</a>\u001b[0m clf\u001b[39m.\u001b[39;49mscore(X_test, y_test)\n",
      "\u001b[1;32m/Users/qiaoxinwei/ML/Code Practice/KNN-cifar10.ipynb Cell 9\u001b[0m in \u001b[0;36mKNN.score\u001b[0;34m(self, X_test, y_test)\u001b[0m\n\u001b[1;32m     <a href='vscode-notebook-cell:/Users/qiaoxinwei/ML/Code%20Practice/KNN-cifar10.ipynb#X13sZmlsZQ%3D%3D?line=29'>30</a>\u001b[0m right_count \u001b[39m=\u001b[39m \u001b[39m0\u001b[39m\n\u001b[1;32m     <a href='vscode-notebook-cell:/Users/qiaoxinwei/ML/Code%20Practice/KNN-cifar10.ipynb#X13sZmlsZQ%3D%3D?line=30'>31</a>\u001b[0m \u001b[39mfor\u001b[39;00m i \u001b[39min\u001b[39;00m \u001b[39mrange\u001b[39m(\u001b[39mlen\u001b[39m(X_test)):\n\u001b[0;32m---> <a href='vscode-notebook-cell:/Users/qiaoxinwei/ML/Code%20Practice/KNN-cifar10.ipynb#X13sZmlsZQ%3D%3D?line=31'>32</a>\u001b[0m     label \u001b[39m=\u001b[39m \u001b[39mself\u001b[39;49m\u001b[39m.\u001b[39;49mpredict(X_test[i])\n\u001b[1;32m     <a href='vscode-notebook-cell:/Users/qiaoxinwei/ML/Code%20Practice/KNN-cifar10.ipynb#X13sZmlsZQ%3D%3D?line=32'>33</a>\u001b[0m     \u001b[39mif\u001b[39;00m label \u001b[39m==\u001b[39m y_test[i]:\n\u001b[1;32m     <a href='vscode-notebook-cell:/Users/qiaoxinwei/ML/Code%20Practice/KNN-cifar10.ipynb#X13sZmlsZQ%3D%3D?line=33'>34</a>\u001b[0m         right_count \u001b[39m+\u001b[39m\u001b[39m=\u001b[39m \u001b[39m1\u001b[39m\n",
      "\u001b[1;32m/Users/qiaoxinwei/ML/Code Practice/KNN-cifar10.ipynb Cell 9\u001b[0m in \u001b[0;36mKNN.predict\u001b[0;34m(self, X)\u001b[0m\n\u001b[1;32m     <a href='vscode-notebook-cell:/Users/qiaoxinwei/ML/Code%20Practice/KNN-cifar10.ipynb#X13sZmlsZQ%3D%3D?line=14'>15</a>\u001b[0m \u001b[39mfor\u001b[39;00m i \u001b[39min\u001b[39;00m \u001b[39mrange\u001b[39m(\u001b[39mself\u001b[39m\u001b[39m.\u001b[39mn, \u001b[39mlen\u001b[39m(\u001b[39mself\u001b[39m\u001b[39m.\u001b[39mX_train)):\n\u001b[1;32m     <a href='vscode-notebook-cell:/Users/qiaoxinwei/ML/Code%20Practice/KNN-cifar10.ipynb#X13sZmlsZQ%3D%3D?line=15'>16</a>\u001b[0m     \u001b[39m# Retrieve the index of the point with the maximum distance\u001b[39;00m\n\u001b[1;32m     <a href='vscode-notebook-cell:/Users/qiaoxinwei/ML/Code%20Practice/KNN-cifar10.ipynb#X13sZmlsZQ%3D%3D?line=16'>17</a>\u001b[0m     max_index \u001b[39m=\u001b[39m knn_list\u001b[39m.\u001b[39mindex(\u001b[39mmax\u001b[39m(knn_list, key\u001b[39m=\u001b[39m\u001b[39mlambda\u001b[39;00m x: x[\u001b[39m0\u001b[39m]))\n\u001b[0;32m---> <a href='vscode-notebook-cell:/Users/qiaoxinwei/ML/Code%20Practice/KNN-cifar10.ipynb#X13sZmlsZQ%3D%3D?line=17'>18</a>\u001b[0m     dist \u001b[39m=\u001b[39m np\u001b[39m.\u001b[39mlinalg\u001b[39m.\u001b[39mnorm(X \u001b[39m-\u001b[39;49m \u001b[39mself\u001b[39;49m\u001b[39m.\u001b[39;49mX_train[i], \u001b[39mord\u001b[39m\u001b[39m=\u001b[39m\u001b[39mself\u001b[39m\u001b[39m.\u001b[39mp)\n\u001b[1;32m     <a href='vscode-notebook-cell:/Users/qiaoxinwei/ML/Code%20Practice/KNN-cifar10.ipynb#X13sZmlsZQ%3D%3D?line=18'>19</a>\u001b[0m     \u001b[39mif\u001b[39;00m knn_list[max_index][\u001b[39m0\u001b[39m] \u001b[39m>\u001b[39m dist:\n\u001b[1;32m     <a href='vscode-notebook-cell:/Users/qiaoxinwei/ML/Code%20Practice/KNN-cifar10.ipynb#X13sZmlsZQ%3D%3D?line=19'>20</a>\u001b[0m         knn_list[max_index] \u001b[39m=\u001b[39m (dist, \u001b[39mself\u001b[39m\u001b[39m.\u001b[39my_train[i])\n",
      "\u001b[0;31mKeyboardInterrupt\u001b[0m: "
     ]
    }
   ],
   "source": [
    "clf.score(X_test, y_test)"
   ]
  },
  {
   "cell_type": "code",
   "execution_count": 11,
   "metadata": {},
   "outputs": [
    {
     "data": {
      "text/plain": [
       "0.3539"
      ]
     },
     "execution_count": 11,
     "metadata": {},
     "output_type": "execute_result"
    }
   ],
   "source": [
    "# Using Class from Scikit-learn\n",
    "from sklearn.neighbors import KNeighborsClassifier\n",
    "clf_sk = KNeighborsClassifier(n_neighbors=1)\n",
    "clf_sk.fit(X_train, y_train)\n",
    "clf_sk.score(X_test, y_test)"
   ]
  },
  {
   "cell_type": "code",
   "execution_count": 75,
   "metadata": {},
   "outputs": [],
   "source": [
    "# Define KdTree\n",
    "class KdNode(object):\n",
    "    \n",
    "    def __init__(self, split, dom_elt, left, right):\n",
    "        self.split = split\n",
    "        self.dom_elt = dom_elt\n",
    "        self.left = left\n",
    "        self.right = right\n",
    "    \n",
    "class KdTree(object):\n",
    "    \n",
    "    def __init__(self, data):\n",
    "        \n",
    "        # Get the dimension\n",
    "        k = len(data[0])\n",
    "        \n",
    "        # Create the KdTree using resursion\n",
    "        def CreateNode(split, data_set):\n",
    "            if not data_set:\n",
    "                return None\n",
    "            # Sort the dataset\n",
    "            data_set.sort(key=lambda x: x[split])\n",
    "            split_pos = len(data_set) // 2\n",
    "            median = data_set[split_pos]\n",
    "            split_next = (split + 1) % k \n",
    "            \n",
    "            return KdNode(split, median,\n",
    "                          CreateNode(split_next, data_set[:split_pos]),\n",
    "                          CreateNode(split_next, data_set[split_pos + 1:]))\n",
    "            \n",
    "        self.root = CreateNode(0, data)\n",
    "        \n",
    "# Define Preorder Function\n",
    "def preorder(root):\n",
    "    print(root.dom_elt)\n",
    "    if root.left:\n",
    "        preorder(root.left)\n",
    "    if root.right:\n",
    "        preorder(root.right)"
   ]
  },
  {
   "cell_type": "code",
   "execution_count": 13,
   "metadata": {},
   "outputs": [],
   "source": [
    "# Define KdTree Search Algorithm\n",
    "from math import sqrt\n",
    "from collections import namedtuple\n",
    "\n",
    "result = namedtuple(\"Result\",\n",
    "                    \"nearest_point  nearest_dist  nodes_visited\")\n",
    "\n",
    "def find_nearest(tree, point):\n",
    "    k = len(point)\n",
    "    \n",
    "    def travel(kd_node, target, max_dist):\n",
    "        \n",
    "        if not kd_node:\n",
    "            return result([0] * k, float('inf'), 0)\n",
    "        # Note here we cannot simply return None, since this will rule the \n",
    "        # special situation out of the function (kd_node is null)\n",
    "        # Understand the essence of recursion: There is a hidden general stack!!!\n",
    "        nodes_visited = 1\n",
    "        s = kd_node.split\n",
    "        pivot = kd_node.dom_elt\n",
    "        \n",
    "        # Determine the next search iteration\n",
    "        if target[s] < pivot[s]:\n",
    "            nearer_node = kd_node.left\n",
    "            further_node = kd_node.right\n",
    "        else:\n",
    "            nearer_node = kd_node.right\n",
    "            further_node = kd_node.left\n",
    "        \n",
    "        # Keep searching\n",
    "        temp1 = travel(nearer_node, target, max_dist)\n",
    "        \n",
    "        # Note this is midorder!!! IF THERE IS A NEED, WE SEARCH THE FURTHER ONE!\n",
    "        nearest = temp1.nearest_point\n",
    "        dist = temp1.nearest_dist\n",
    "        \n",
    "        nodes_visited += temp1.nodes_visited\n",
    "        \n",
    "        if dist < max_dist:\n",
    "            max_dist = dist # This is the radius\n",
    "            \n",
    "        # Now we have to calculate whether the radius will reach to another region\n",
    "        temp_dist = abs(pivot[s] - target[s])\n",
    "        # if no intersaction, this means that IN THIS DIMENSION the nearest point is what we got\n",
    "        if temp_dist > max_dist:\n",
    "            return result(nearest, dist, nodes_visited)\n",
    "        # Note: temp_dist > max_dist indicates that the hyperball is totally in that region\n",
    "        # if not, there are still two possibilities\n",
    "        # 1.pivot is the nearest point\n",
    "        # 2. the nearest point is in the other region (the offspring of further node)\n",
    "        \n",
    "        temp_dist = sqrt(sum((p1 - p2) ** 2 for p1, p2 in zip(pivot, target)))\n",
    "        \n",
    "        if temp_dist < dist: # pivot is nearer\n",
    "            nearest = pivot\n",
    "            dist = temp_dist\n",
    "            max_dist = dist\n",
    "        # Search in another region\n",
    "        temp2 = travel(further_node,target, max_dist)\n",
    "        \n",
    "        if temp2.nearest_dist < dist:\n",
    "            nearest = temp2.nearest_point\n",
    "            dist = temp2.nearest_dist\n",
    "            \n",
    "        nodes_visited += temp2.nodes_visited\n",
    "            \n",
    "        return result(nearest, dist, nodes_visited)\n",
    "\n",
    "    return travel(tree.root, point, float('inf'))  "
   ]
  },
  {
   "cell_type": "code",
   "execution_count": 14,
   "metadata": {},
   "outputs": [
    {
     "name": "stdout",
     "output_type": "stream",
     "text": [
      "[7, 2]\n",
      "[5, 4]\n",
      "[2, 3]\n",
      "[4, 7]\n",
      "[9, 6]\n",
      "[8, 1]\n"
     ]
    }
   ],
   "source": [
    "data = [[2,3],[5,4],[9,6],[4,7],[8,1],[7,2]]\n",
    "kd = KdTree(data)\n",
    "preorder(kd.root)"
   ]
  },
  {
   "cell_type": "code",
   "execution_count": 15,
   "metadata": {},
   "outputs": [],
   "source": [
    "from time import perf_counter\n",
    "from random import random\n",
    "\n",
    "def random_point(k):\n",
    "    return [random() for _ in range(k)]\n",
    "\n",
    "def random_points(k, n):\n",
    "    return [random_point(k) for _ in range(n)]"
   ]
  },
  {
   "cell_type": "code",
   "execution_count": 16,
   "metadata": {},
   "outputs": [
    {
     "data": {
      "text/plain": [
       "Result(nearest_point=[2, 3], nearest_dist=1.8027756377319946, nodes_visited=4)"
      ]
     },
     "execution_count": 16,
     "metadata": {},
     "output_type": "execute_result"
    }
   ],
   "source": [
    "find_nearest(kd, [3, 4.5])"
   ]
  },
  {
   "cell_type": "code",
   "execution_count": 20,
   "metadata": {},
   "outputs": [
    {
     "name": "stdout",
     "output_type": "stream",
     "text": [
      "Result(nearest_point=[0.17874394397764803, 0.21678990438838575, 0.7998362553852564, 0.5196189220081592, 0.30228129223618416], nearest_dist=0.033523931963963666, nodes_visited=343)\n",
      "11.919583375000002\n"
     ]
    }
   ],
   "source": [
    "N = 1000000\n",
    "t0 = perf_counter()\n",
    "kd2 = KdTree(random_points(5, N))\n",
    "ret2 = find_nearest(kd2, [0.2, 0.2, 0.8, 0.5, 0.3])\n",
    "t1 = perf_counter()\n",
    "print(ret2)\n",
    "print(t1 - t0)"
   ]
  },
  {
   "cell_type": "markdown",
   "metadata": {},
   "source": [
    "### Realization of KNN accelerated algorithm"
   ]
  },
  {
   "cell_type": "code",
   "execution_count": 77,
   "metadata": {},
   "outputs": [],
   "source": [
    "class KdNode(object):\n",
    "    \n",
    "    def __init__(self, split, dom_elt, left, right):\n",
    "        self.split = split\n",
    "        self.dom_elt = dom_elt\n",
    "        self.left = left\n",
    "        self.right = right\n",
    "        \n",
    "class KdTree(object):\n",
    "    \n",
    "    def __init__(self, data):\n",
    "        \n",
    "        k = len(data[0])\n",
    "        \n",
    "        def CreateTree(split, data_set):\n",
    "            if not data_set:\n",
    "                return None\n",
    "\n",
    "            data_set.sort(key=lambda x: x[split])\n",
    "            split_pos = len(data_set) // 2\n",
    "            median = data_set[split_pos]\n",
    "            split_next = (split + 1) % k\n",
    "            \n",
    "            return KdNode(split, median,\n",
    "                          CreateTree(split_next, data_set[:split_pos]),\n",
    "                          CreateTree(split_next, data_set[split_pos + 1:]))\n",
    "            \n",
    "        self.root = CreateTree(0, data)\n",
    "        \n",
    "def preorder(root):\n",
    "    print(root.dom_elt)\n",
    "    if root.left:\n",
    "        preorder(root.left)\n",
    "    if root.right:\n",
    "        preorder(root.right)"
   ]
  },
  {
   "cell_type": "code",
   "execution_count": 96,
   "metadata": {},
   "outputs": [],
   "source": [
    "from math import sqrt\n",
    "\n",
    "class result(object):\n",
    "    \n",
    "    def __init__(self, nearest_point, nearest_dist):\n",
    "        self.nearest_point = nearest_point\n",
    "        self.nearest_dist = nearest_dist\n",
    "\n",
    "def find_k_nearest(tree, point, k):\n",
    "    \n",
    "    p = len(point)\n",
    "    \n",
    "    def travel(kd_node, target, max_dist):\n",
    "        \n",
    "        if not kd_node:\n",
    "            return result([[0 for _ in range(p)] for _ in range(k)],\n",
    "                          [float('inf') for _ in range(k)])\n",
    "        \n",
    "        s = kd_node.split\n",
    "        pivot = kd_node.dom_elt\n",
    "        \n",
    "        if target[s] <= pivot[s]:\n",
    "            nearer = kd_node.left\n",
    "            further = kd_node.right\n",
    "        else:\n",
    "            nearer = kd_node.right\n",
    "            further = kd_node.left\n",
    "        \n",
    "        temp1 = travel(nearer, target, max_dist)\n",
    "        \n",
    "        nearest_point = temp1.nearest_point\n",
    "        nearest_dist = temp1.nearest_dist\n",
    "        \n",
    "        # iteration needed\n",
    "        max_index = nearest_dist.index(sorted(nearest_dist)[-1])\n",
    "        max_point = nearest_point[max_index]\n",
    "        cur_max_dist = nearest_dist[max_index]\n",
    "        \n",
    "        if cur_max_dist < max_dist:\n",
    "            max_dist = cur_max_dist\n",
    "        \n",
    "        temp_dist = abs(target[s] - pivot[s])\n",
    "        \n",
    "        if temp_dist > max_dist:\n",
    "            return result(nearest_point, nearest_dist)\n",
    "\n",
    "        temp_dist = sqrt(sum((p1 - p2) ** 2 for p1, p2 in zip(target, pivot)))\n",
    "        \n",
    "        if temp_dist < cur_max_dist:\n",
    "            nearest_point[max_index] = pivot\n",
    "            nearest_dist[max_index] = temp_dist\n",
    "            temp_dist = max_dist\n",
    "            \n",
    "        temp2 = travel(further, target, max_dist)\n",
    "        \n",
    "        # select the k nearest points from these two sets\n",
    "        \n",
    "        temp_nearest_point = nearest_point + temp2.nearest_point\n",
    "        temp_nearest_dist = nearest_dist + temp2.nearest_dist\n",
    "        temp_set = list(zip(temp_nearest_point, temp_nearest_dist))\n",
    "        \n",
    "        k_min_set = sorted(temp_set, key=lambda x: x[1])[:k]\n",
    "        nearest_point = [point for point, dist in k_min_set]\n",
    "        nearest_dist = [dist for point, dist in k_min_set]\n",
    "        \n",
    "        return result(nearest_point, nearest_dist)\n",
    "    \n",
    "    return travel(tree.root, point, float('inf'))\n",
    "        "
   ]
  },
  {
   "cell_type": "code",
   "execution_count": 147,
   "metadata": {},
   "outputs": [],
   "source": [
    "data = [[2,3],[5,4],[9,6],[4,7],[8,1],[7,2]]"
   ]
  },
  {
   "cell_type": "code",
   "execution_count": 148,
   "metadata": {},
   "outputs": [],
   "source": [
    "kd = KdTree(data)"
   ]
  },
  {
   "cell_type": "code",
   "execution_count": 156,
   "metadata": {},
   "outputs": [],
   "source": [
    "ret = find_k_nearest(kd, [6.1, 7.2], 3)"
   ]
  },
  {
   "cell_type": "code",
   "execution_count": 157,
   "metadata": {},
   "outputs": [
    {
     "data": {
      "text/plain": [
       "[[4, 7], [9, 6], [5, 4]]"
      ]
     },
     "execution_count": 157,
     "metadata": {},
     "output_type": "execute_result"
    }
   ],
   "source": [
    "ret.nearest_point"
   ]
  },
  {
   "cell_type": "code",
   "execution_count": 158,
   "metadata": {},
   "outputs": [
    {
     "data": {
      "text/plain": [
       "[2.109502310972898, 3.1384709652950433, 3.383784863137726]"
      ]
     },
     "execution_count": 158,
     "metadata": {},
     "output_type": "execute_result"
    }
   ],
   "source": [
    "ret.nearest_dist"
   ]
  },
  {
   "cell_type": "code",
   "execution_count": 93,
   "metadata": {},
   "outputs": [],
   "source": [
    "from random import random\n",
    "def random_point(p):\n",
    "    return [random() for _ in range(p)]\n",
    "def random_points(p, n):\n",
    "    return [random_point(p) for _ in range(n)]"
   ]
  },
  {
   "cell_type": "code",
   "execution_count": 100,
   "metadata": {},
   "outputs": [],
   "source": [
    "ret1 = find_k_nearest(kd, [3, 4.5], 2)"
   ]
  },
  {
   "cell_type": "code",
   "execution_count": 98,
   "metadata": {},
   "outputs": [],
   "source": [
    "from random import random\n",
    "\n",
    "# 产生一个k维随机向量，每维分量值在0~1之间\n",
    "def random_point(k):\n",
    "    return [random() for _ in range(k)]\n",
    " \n",
    "# 产生n个k维随机向量 \n",
    "def random_points(k, n):\n",
    "    return [random_point(k) for _ in range(n)] "
   ]
  },
  {
   "cell_type": "code",
   "execution_count": 99,
   "metadata": {},
   "outputs": [],
   "source": [
    "N = 400000\n",
    "kd2 = KdTree(random_points(3, N)) \n",
    "ret2 = find_k_nearest(kd2, [0.1, 0.5, 0.8], 10)    \n"
   ]
  },
  {
   "cell_type": "code",
   "execution_count": 132,
   "metadata": {},
   "outputs": [],
   "source": [
    "from collections import Counter\n",
    "def knn_train(k, X_train, y_train, X_test, y_test):\n",
    "    right_count = 0\n",
    "    X_train_list = X_train.tolist()\n",
    "    X_test_list = X_test.tolist()\n",
    "    kd = KdTree(X_train_list)\n",
    "    for i in range(len(X_test)):\n",
    "        ret = find_k_nearest(kd, X_test_list[i], k)\n",
    "        train_label = []\n",
    "        for j in range(k):\n",
    "            idx = X_train_list.index(ret.nearest_point[j])\n",
    "            label = y_train[idx]\n",
    "            train_label.append(label)\n",
    "        count = Counter(train_label)\n",
    "        label = sorted(count.items(), key=lambda x: x[1])[-1][0]\n",
    "        if label == y_test[i]:\n",
    "            right_count += 1\n",
    "    return np.round(right_count / len(X_test), 4)          "
   ]
  },
  {
   "cell_type": "code",
   "execution_count": 145,
   "metadata": {},
   "outputs": [
    {
     "data": {
      "text/plain": [
       "0.12"
      ]
     },
     "execution_count": 145,
     "metadata": {},
     "output_type": "execute_result"
    }
   ],
   "source": [
    "knn_train(1, X_train[:2000], y_train[:2000], X_test[:100], y_test[:100])"
   ]
  },
  {
   "cell_type": "code",
   "execution_count": 172,
   "metadata": {},
   "outputs": [
    {
     "data": {
      "text/plain": [
       "[[2, 3]]"
      ]
     },
     "execution_count": 172,
     "metadata": {},
     "output_type": "execute_result"
    }
   ],
   "source": [
    "from sklearn.neighbors import KDTree\n",
    "train_data = np.array([(2, 3), (5, 4), (9, 6), (4, 7), (8, 1), (7, 2)])\n",
    "kd = KdTree(train_data.tolist())\n",
    "ret = find_k_nearest(kd, [3, 4.5], 1)\n",
    "ret.nearest_point"
   ]
  }
 ],
 "metadata": {
  "kernelspec": {
   "display_name": "Python 3.9.12 ('d2l')",
   "language": "python",
   "name": "python3"
  },
  "language_info": {
   "codemirror_mode": {
    "name": "ipython",
    "version": 3
   },
   "file_extension": ".py",
   "mimetype": "text/x-python",
   "name": "python",
   "nbconvert_exporter": "python",
   "pygments_lexer": "ipython3",
   "version": "3.9.12"
  },
  "orig_nbformat": 4,
  "vscode": {
   "interpreter": {
    "hash": "8bd98c00ad50c8bb0a4a87394933cfa32a0e849627a28945ed85398a5749e862"
   }
  }
 },
 "nbformat": 4,
 "nbformat_minor": 2
}
