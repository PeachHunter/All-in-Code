{
 "cells": [
  {
   "cell_type": "code",
   "execution_count": 556,
   "metadata": {},
   "outputs": [],
   "source": [
    "import numpy as np\n",
    "import pandas as pd\n",
    "import matplotlib.pyplot as plt\n",
    "import math as m \n",
    "from sklearn.model_selection import train_test_split\n",
    "from collections import Counter"
   ]
  },
  {
   "cell_type": "code",
   "execution_count": 557,
   "metadata": {},
   "outputs": [],
   "source": [
    "weather = ['Clear', 'Clear', 'Clear', 'Clear', 'Clear', 'Clear',\n",
    "            'Rainy', 'Rainy', 'Rainy', 'Rainy', 'Rainy', 'Rainy',\n",
    "            'Snowy', 'Snowy', 'Snowy', 'Snowy', 'Snowy', 'Snowy']\n",
    "\n",
    "timeOfWeek = ['Workday', 'Workday', 'Workday',\n",
    "            'Weekend', 'Weekend', 'Weekend',\n",
    "            'Workday', 'Workday', 'Workday',\n",
    "            'Weekend', 'Weekend', 'Weekend',\n",
    "            'Workday', 'Workday', 'Workday',\n",
    "            'Weekend', 'Weekend', 'Weekend']\n",
    "\n",
    "timeOfDay = ['Morning', 'Lunch', 'Evening',\n",
    "            'Morning', 'Lunch', 'Evening',\n",
    "            'Morning', 'Lunch', 'Evening',\n",
    "            'Morning', 'Lunch', 'Evening',\n",
    "            'Morning', 'Lunch', 'Evening',\n",
    "            'Morning', 'Lunch', 'Evening',\n",
    "            ]\n",
    "trafficJam = ['Yes', 'No', 'Yes',\n",
    "            'No', 'No', 'No',\n",
    "            'Yes', 'Yes', 'Yes',\n",
    "            'No', 'No', 'No',\n",
    "            'Yes', 'Yes', 'Yes',\n",
    "            'Yes', 'No', 'Yes'\n",
    "            ]"
   ]
  },
  {
   "cell_type": "code",
   "execution_count": 558,
   "metadata": {},
   "outputs": [],
   "source": [
    "data = pd.DataFrame(zip(weather, timeOfWeek, timeOfDay, trafficJam), columns=['weather', 'timeOfWeek', 'timeOfDay', 'trafficJam'])"
   ]
  },
  {
   "cell_type": "code",
   "execution_count": 559,
   "metadata": {},
   "outputs": [],
   "source": [
    "feature = np.array(data.iloc[:, :3])\n",
    "label = np.array(data.iloc[:, 3])"
   ]
  },
  {
   "cell_type": "code",
   "execution_count": 560,
   "metadata": {},
   "outputs": [],
   "source": [
    "X_train, X_test, y_train, y_test = train_test_split(feature, label, test_size=0.3, random_state=520)"
   ]
  },
  {
   "cell_type": "code",
   "execution_count": 561,
   "metadata": {},
   "outputs": [],
   "source": [
    "class CategoricalNB:\n",
    "    \n",
    "    def __init__(self, alpha):\n",
    "        self.alpha = alpha\n",
    "        self.model = None\n",
    "    \n",
    "    def summarize(self, data):\n",
    "        count = [Counter(feature) for feature in zip(*data)]\n",
    "        for i in range(len(count)):\n",
    "            sum_cnt = sum([value for ct, value in count[i].items()])\n",
    "            count[i] = {ct: (value + self.alpha) / (sum_cnt + len(count[i]) * self.alpha) for ct, value in count[i].items()}\n",
    "        return count\n",
    "    \n",
    "    # the model is a dictionary where the key is the label and the value is another dictionary whose key is the feature and the value is the probability of the corresponding class\n",
    "    def fit(self, X_train, y_train):\n",
    "        labels = list(set(y_train))\n",
    "        data = {label: [] for label in labels}\n",
    "        for value, label in zip(X_train, y_train):\n",
    "            data[label].append(value)\n",
    "        self.model = {\n",
    "            label: self.summarize(value)\n",
    "            for label, value in data.items()\n",
    "        }\n",
    "        return \"Categorical Naive Bayes Training is Done!\"\n",
    "    \n",
    "    def predict(self, data):\n",
    "        probabilities = {}\n",
    "        for label, value in self.model.items():\n",
    "            probabilities[label] = 1\n",
    "            for i in range(len(value)):\n",
    "                probabilities[label] *= value[i][data[i]]\n",
    "        result = sorted(probabilities.items(), key=lambda x: x[1])[-1][0]\n",
    "        return result\n",
    "    \n",
    "    def score(self, X_test, y_test):\n",
    "        right = 0\n",
    "        for X, y in zip(X_test, y_test):\n",
    "            label = self.predict(X)\n",
    "            if label == y:\n",
    "                right += 1\n",
    "        return right / len(y_test)\n",
    "        "
   ]
  },
  {
   "cell_type": "code",
   "execution_count": 562,
   "metadata": {},
   "outputs": [],
   "source": [
    "model = CategoricalNB(1)"
   ]
  },
  {
   "cell_type": "code",
   "execution_count": 563,
   "metadata": {},
   "outputs": [
    {
     "data": {
      "text/plain": [
       "'Categorical Naive Bayes Training is Done!'"
      ]
     },
     "execution_count": 563,
     "metadata": {},
     "output_type": "execute_result"
    }
   ],
   "source": [
    "model.fit(X_train, y_train)"
   ]
  },
  {
   "cell_type": "code",
   "execution_count": 564,
   "metadata": {},
   "outputs": [
    {
     "data": {
      "text/plain": [
       "1.0"
      ]
     },
     "execution_count": 564,
     "metadata": {},
     "output_type": "execute_result"
    }
   ],
   "source": [
    "model.score(X_test, y_test)"
   ]
  }
 ],
 "metadata": {
  "kernelspec": {
   "display_name": "Python 3.9.12 ('d2l')",
   "language": "python",
   "name": "python3"
  },
  "language_info": {
   "codemirror_mode": {
    "name": "ipython",
    "version": 3
   },
   "file_extension": ".py",
   "mimetype": "text/x-python",
   "name": "python",
   "nbconvert_exporter": "python",
   "pygments_lexer": "ipython3",
   "version": "3.9.12"
  },
  "orig_nbformat": 4,
  "vscode": {
   "interpreter": {
    "hash": "8bd98c00ad50c8bb0a4a87394933cfa32a0e849627a28945ed85398a5749e862"
   }
  }
 },
 "nbformat": 4,
 "nbformat_minor": 2
}
